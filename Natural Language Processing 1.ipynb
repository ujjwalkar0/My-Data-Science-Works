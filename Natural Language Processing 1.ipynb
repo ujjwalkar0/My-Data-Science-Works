{
 "cells": [
  {
   "cell_type": "code",
   "execution_count": 1,
   "metadata": {
    "colab": {
     "base_uri": "https://localhost:8080/",
     "height": 175
    },
    "id": "62TaHHSH-BVF",
    "outputId": "f6846ec8-1f75-47ac-f894-18119e3c6cfc"
   },
   "outputs": [
    {
     "data": {
      "text/html": [
       "<div>\n",
       "<style scoped>\n",
       "    .dataframe tbody tr th:only-of-type {\n",
       "        vertical-align: middle;\n",
       "    }\n",
       "\n",
       "    .dataframe tbody tr th {\n",
       "        vertical-align: top;\n",
       "    }\n",
       "\n",
       "    .dataframe thead th {\n",
       "        text-align: right;\n",
       "    }\n",
       "</style>\n",
       "<table border=\"1\" class=\"dataframe\">\n",
       "  <thead>\n",
       "    <tr style=\"text-align: right;\">\n",
       "      <th></th>\n",
       "      <th>text</th>\n",
       "    </tr>\n",
       "  </thead>\n",
       "  <tbody>\n",
       "    <tr>\n",
       "      <th>0</th>\n",
       "      <td>This is. the NLP TASKS ARTICLE written by ABhi...</td>\n",
       "    </tr>\n",
       "    <tr>\n",
       "      <th>1</th>\n",
       "      <td>IN this article I\"ll be explaining various DAT...</td>\n",
       "    </tr>\n",
       "    <tr>\n",
       "      <th>2</th>\n",
       "      <td>So stay tuned for FURther More &amp;&amp;</td>\n",
       "    </tr>\n",
       "    <tr>\n",
       "      <th>3</th>\n",
       "      <td>Nah I don\"t think he goes to usf, he lives around</td>\n",
       "    </tr>\n",
       "  </tbody>\n",
       "</table>\n",
       "</div>"
      ],
      "text/plain": [
       "                                                text\n",
       "0  This is. the NLP TASKS ARTICLE written by ABhi...\n",
       "1  IN this article I\"ll be explaining various DAT...\n",
       "2                  So stay tuned for FURther More &&\n",
       "3  Nah I don\"t think he goes to usf, he lives around"
      ]
     },
     "execution_count": 1,
     "metadata": {},
     "output_type": "execute_result"
    }
   ],
   "source": [
    "import pandas as pd\n",
    "\n",
    "text = ['This is. the NLP TASKS ARTICLE written by ABhishek Jaiswal**', 'IN this article I\"ll be explaining various DATA-CLEANING techniques',\n",
    " 'So stay tuned for FURther More &&', 'Nah I don\"t think he goes to usf, he lives around']\n",
    "\n",
    "df = pd.DataFrame({'text':text})\n",
    "df"
   ]
  },
  {
   "cell_type": "code",
   "execution_count": 2,
   "metadata": {
    "colab": {
     "base_uri": "https://localhost:8080/",
     "height": 175
    },
    "id": "tqMgiesM-pH4",
    "outputId": "1591a6c1-e96b-48b9-c83b-55f057c8d3bf"
   },
   "outputs": [
    {
     "data": {
      "text/html": [
       "<div>\n",
       "<style scoped>\n",
       "    .dataframe tbody tr th:only-of-type {\n",
       "        vertical-align: middle;\n",
       "    }\n",
       "\n",
       "    .dataframe tbody tr th {\n",
       "        vertical-align: top;\n",
       "    }\n",
       "\n",
       "    .dataframe thead th {\n",
       "        text-align: right;\n",
       "    }\n",
       "</style>\n",
       "<table border=\"1\" class=\"dataframe\">\n",
       "  <thead>\n",
       "    <tr style=\"text-align: right;\">\n",
       "      <th></th>\n",
       "      <th>text</th>\n",
       "      <th>lower</th>\n",
       "    </tr>\n",
       "  </thead>\n",
       "  <tbody>\n",
       "    <tr>\n",
       "      <th>0</th>\n",
       "      <td>This is. the NLP TASKS ARTICLE written by ABhi...</td>\n",
       "      <td>this is. the nlp tasks article written by abhi...</td>\n",
       "    </tr>\n",
       "    <tr>\n",
       "      <th>1</th>\n",
       "      <td>IN this article I\"ll be explaining various DAT...</td>\n",
       "      <td>in this article i\"ll be explaining various dat...</td>\n",
       "    </tr>\n",
       "    <tr>\n",
       "      <th>2</th>\n",
       "      <td>So stay tuned for FURther More &amp;&amp;</td>\n",
       "      <td>so stay tuned for further more &amp;&amp;</td>\n",
       "    </tr>\n",
       "    <tr>\n",
       "      <th>3</th>\n",
       "      <td>Nah I don\"t think he goes to usf, he lives around</td>\n",
       "      <td>nah i don\"t think he goes to usf, he lives around</td>\n",
       "    </tr>\n",
       "  </tbody>\n",
       "</table>\n",
       "</div>"
      ],
      "text/plain": [
       "                                                text  \\\n",
       "0  This is. the NLP TASKS ARTICLE written by ABhi...   \n",
       "1  IN this article I\"ll be explaining various DAT...   \n",
       "2                  So stay tuned for FURther More &&   \n",
       "3  Nah I don\"t think he goes to usf, he lives around   \n",
       "\n",
       "                                               lower  \n",
       "0  this is. the nlp tasks article written by abhi...  \n",
       "1  in this article i\"ll be explaining various dat...  \n",
       "2                  so stay tuned for further more &&  \n",
       "3  nah i don\"t think he goes to usf, he lives around  "
      ]
     },
     "execution_count": 2,
     "metadata": {},
     "output_type": "execute_result"
    }
   ],
   "source": [
    "df['lower'] = df['text'].apply(lambda x: \" \".join(x.lower()  for x in x.split()))\n",
    "df"
   ]
  },
  {
   "cell_type": "markdown",
   "metadata": {
    "id": "SUMGJNN1_RYZ"
   },
   "source": [
    "## Punctuation Removal \n",
    "Removing punctuation(*,&,%#@#()) is a crucial step since punctuation doesn’t add any extra information or value to our data."
   ]
  },
  {
   "cell_type": "code",
   "execution_count": 3,
   "metadata": {
    "colab": {
     "base_uri": "https://localhost:8080/",
     "height": 39
    },
    "id": "VgyLK4xu_Amm",
    "outputId": "2804d3a0-bd06-4099-e42c-5c524d133191"
   },
   "outputs": [
    {
     "data": {
      "text/plain": [
       "'!\"#$%&\\'()*+,-./:;<=>?@[\\\\]^_`{|}~'"
      ]
     },
     "execution_count": 3,
     "metadata": {},
     "output_type": "execute_result"
    }
   ],
   "source": [
    "import string\n",
    "string.punctuation"
   ]
  },
  {
   "cell_type": "code",
   "execution_count": 4,
   "metadata": {
    "colab": {
     "base_uri": "https://localhost:8080/",
     "height": 271
    },
    "id": "A3WUAa_L_YOx",
    "outputId": "21882fec-c5fa-4f0e-9fa3-12ad0b2de035"
   },
   "outputs": [
    {
     "data": {
      "text/html": [
       "<div>\n",
       "<style scoped>\n",
       "    .dataframe tbody tr th:only-of-type {\n",
       "        vertical-align: middle;\n",
       "    }\n",
       "\n",
       "    .dataframe tbody tr th {\n",
       "        vertical-align: top;\n",
       "    }\n",
       "\n",
       "    .dataframe thead th {\n",
       "        text-align: right;\n",
       "    }\n",
       "</style>\n",
       "<table border=\"1\" class=\"dataframe\">\n",
       "  <thead>\n",
       "    <tr style=\"text-align: right;\">\n",
       "      <th></th>\n",
       "      <th>text</th>\n",
       "      <th>lower</th>\n",
       "      <th>preprocessed</th>\n",
       "    </tr>\n",
       "  </thead>\n",
       "  <tbody>\n",
       "    <tr>\n",
       "      <th>0</th>\n",
       "      <td>This is. the NLP TASKS ARTICLE written by ABhi...</td>\n",
       "      <td>this is. the nlp tasks article written by abhi...</td>\n",
       "      <td>this is the nlp tasks article written by abhis...</td>\n",
       "    </tr>\n",
       "    <tr>\n",
       "      <th>1</th>\n",
       "      <td>IN this article I\"ll be explaining various DAT...</td>\n",
       "      <td>in this article i\"ll be explaining various dat...</td>\n",
       "      <td>in this article ill be explaining various data...</td>\n",
       "    </tr>\n",
       "    <tr>\n",
       "      <th>2</th>\n",
       "      <td>So stay tuned for FURther More &amp;&amp;</td>\n",
       "      <td>so stay tuned for further more &amp;&amp;</td>\n",
       "      <td>so stay tuned for further more</td>\n",
       "    </tr>\n",
       "    <tr>\n",
       "      <th>3</th>\n",
       "      <td>Nah I don\"t think he goes to usf, he lives around</td>\n",
       "      <td>nah i don\"t think he goes to usf, he lives around</td>\n",
       "      <td>nah i dont think he goes to usf he lives around</td>\n",
       "    </tr>\n",
       "  </tbody>\n",
       "</table>\n",
       "</div>"
      ],
      "text/plain": [
       "                                                text  \\\n",
       "0  This is. the NLP TASKS ARTICLE written by ABhi...   \n",
       "1  IN this article I\"ll be explaining various DAT...   \n",
       "2                  So stay tuned for FURther More &&   \n",
       "3  Nah I don\"t think he goes to usf, he lives around   \n",
       "\n",
       "                                               lower  \\\n",
       "0  this is. the nlp tasks article written by abhi...   \n",
       "1  in this article i\"ll be explaining various dat...   \n",
       "2                  so stay tuned for further more &&   \n",
       "3  nah i don\"t think he goes to usf, he lives around   \n",
       "\n",
       "                                        preprocessed  \n",
       "0  this is the nlp tasks article written by abhis...  \n",
       "1  in this article ill be explaining various data...  \n",
       "2                    so stay tuned for further more   \n",
       "3    nah i dont think he goes to usf he lives around  "
      ]
     },
     "execution_count": 4,
     "metadata": {},
     "output_type": "execute_result"
    }
   ],
   "source": [
    "df['preprocessed'] = df.lower.apply(lambda x: \"\".join(i for i in x if i not in string.punctuation))\n",
    "df"
   ]
  },
  {
   "cell_type": "markdown",
   "metadata": {
    "id": "J3BQZnx4AsJ9"
   },
   "source": [
    "## Stop Words Removal\n",
    "Words that frequently occur in sentences and carry no significant meaning in sentences. These are not important for prediction, so we remove stopwords to reduce data size and prevent overfitting. Note: Before filtering stopwords, make sure you lowercase the data since our stopwords are lowercase."
   ]
  },
  {
   "cell_type": "code",
   "execution_count": 5,
   "metadata": {
    "colab": {
     "base_uri": "https://localhost:8080/",
     "height": 340
    },
    "id": "KnM0iSVs_w8i",
    "outputId": "558f37e4-b59a-4077-fba8-7a728d18685f"
   },
   "outputs": [
    {
     "data": {
      "text/html": [
       "<div>\n",
       "<style scoped>\n",
       "    .dataframe tbody tr th:only-of-type {\n",
       "        vertical-align: middle;\n",
       "    }\n",
       "\n",
       "    .dataframe tbody tr th {\n",
       "        vertical-align: top;\n",
       "    }\n",
       "\n",
       "    .dataframe thead th {\n",
       "        text-align: right;\n",
       "    }\n",
       "</style>\n",
       "<table border=\"1\" class=\"dataframe\">\n",
       "  <thead>\n",
       "    <tr style=\"text-align: right;\">\n",
       "      <th></th>\n",
       "      <th>text</th>\n",
       "      <th>lower</th>\n",
       "      <th>preprocessed</th>\n",
       "      <th>stopword_removed</th>\n",
       "    </tr>\n",
       "  </thead>\n",
       "  <tbody>\n",
       "    <tr>\n",
       "      <th>0</th>\n",
       "      <td>This is. the NLP TASKS ARTICLE written by ABhi...</td>\n",
       "      <td>this is. the nlp tasks article written by abhi...</td>\n",
       "      <td>this is the nlp tasks article written by abhis...</td>\n",
       "      <td>nlp tasks article written abhishek jaiswal</td>\n",
       "    </tr>\n",
       "    <tr>\n",
       "      <th>1</th>\n",
       "      <td>IN this article I\"ll be explaining various DAT...</td>\n",
       "      <td>in this article i\"ll be explaining various dat...</td>\n",
       "      <td>in this article ill be explaining various data...</td>\n",
       "      <td>article ill explaining various datacleaning te...</td>\n",
       "    </tr>\n",
       "    <tr>\n",
       "      <th>2</th>\n",
       "      <td>So stay tuned for FURther More &amp;&amp;</td>\n",
       "      <td>so stay tuned for further more &amp;&amp;</td>\n",
       "      <td>so stay tuned for further more</td>\n",
       "      <td>stay tuned</td>\n",
       "    </tr>\n",
       "    <tr>\n",
       "      <th>3</th>\n",
       "      <td>Nah I don\"t think he goes to usf, he lives around</td>\n",
       "      <td>nah i don\"t think he goes to usf, he lives around</td>\n",
       "      <td>nah i dont think he goes to usf he lives around</td>\n",
       "      <td>nah dont think goes usf lives around</td>\n",
       "    </tr>\n",
       "  </tbody>\n",
       "</table>\n",
       "</div>"
      ],
      "text/plain": [
       "                                                text  \\\n",
       "0  This is. the NLP TASKS ARTICLE written by ABhi...   \n",
       "1  IN this article I\"ll be explaining various DAT...   \n",
       "2                  So stay tuned for FURther More &&   \n",
       "3  Nah I don\"t think he goes to usf, he lives around   \n",
       "\n",
       "                                               lower  \\\n",
       "0  this is. the nlp tasks article written by abhi...   \n",
       "1  in this article i\"ll be explaining various dat...   \n",
       "2                  so stay tuned for further more &&   \n",
       "3  nah i don\"t think he goes to usf, he lives around   \n",
       "\n",
       "                                        preprocessed  \\\n",
       "0  this is the nlp tasks article written by abhis...   \n",
       "1  in this article ill be explaining various data...   \n",
       "2                    so stay tuned for further more    \n",
       "3    nah i dont think he goes to usf he lives around   \n",
       "\n",
       "                                    stopword_removed  \n",
       "0         nlp tasks article written abhishek jaiswal  \n",
       "1  article ill explaining various datacleaning te...  \n",
       "2                                         stay tuned  \n",
       "3               nah dont think goes usf lives around  "
      ]
     },
     "execution_count": 5,
     "metadata": {},
     "output_type": "execute_result"
    }
   ],
   "source": [
    "import nltk \n",
    "# nltk.download('stopwords') \n",
    "from nltk.corpus import stopwords\n",
    "allstopwords = stopwords.words('english')\n",
    "df['stopword_removed'] = df.preprocessed.apply(lambda x: \" \".join(i for i in x.split() if i not in allstopwords))\n",
    "df"
   ]
  },
  {
   "cell_type": "markdown",
   "metadata": {
    "id": "pPANcX03GhHh"
   },
   "source": [
    "## Spelling Correction\n",
    "\n",
    "Most of the text data extracted in customer reviews, blogs, or tweets have some chances of spelling mistakes. Correcting spelling mistakes improves model accuracy."
   ]
  },
  {
   "cell_type": "code",
   "execution_count": 6,
   "metadata": {},
   "outputs": [],
   "source": [
    "# !pip install textblob"
   ]
  },
  {
   "cell_type": "code",
   "execution_count": 7,
   "metadata": {
    "colab": {
     "base_uri": "https://localhost:8080/",
     "height": 340
    },
    "id": "cAXnyOpeBXOQ",
    "outputId": "61d10ec5-afb8-4266-f663-4aba1f24914e"
   },
   "outputs": [
    {
     "data": {
      "text/html": [
       "<div>\n",
       "<style scoped>\n",
       "    .dataframe tbody tr th:only-of-type {\n",
       "        vertical-align: middle;\n",
       "    }\n",
       "\n",
       "    .dataframe tbody tr th {\n",
       "        vertical-align: top;\n",
       "    }\n",
       "\n",
       "    .dataframe thead th {\n",
       "        text-align: right;\n",
       "    }\n",
       "</style>\n",
       "<table border=\"1\" class=\"dataframe\">\n",
       "  <thead>\n",
       "    <tr style=\"text-align: right;\">\n",
       "      <th></th>\n",
       "      <th>text</th>\n",
       "      <th>lower</th>\n",
       "      <th>preprocessed</th>\n",
       "      <th>stopword_removed</th>\n",
       "      <th>correct</th>\n",
       "    </tr>\n",
       "  </thead>\n",
       "  <tbody>\n",
       "    <tr>\n",
       "      <th>0</th>\n",
       "      <td>This is. the NLP TASKS ARTICLE written by ABhi...</td>\n",
       "      <td>this is. the nlp tasks article written by abhi...</td>\n",
       "      <td>this is the nlp tasks article written by abhis...</td>\n",
       "      <td>nlp tasks article written abhishek jaiswal</td>\n",
       "      <td>nap tasks article written abhishek jaiswal</td>\n",
       "    </tr>\n",
       "    <tr>\n",
       "      <th>1</th>\n",
       "      <td>IN this article I\"ll be explaining various DAT...</td>\n",
       "      <td>in this article i\"ll be explaining various dat...</td>\n",
       "      <td>in this article ill be explaining various data...</td>\n",
       "      <td>article ill explaining various datacleaning te...</td>\n",
       "      <td>article ill explaining various datacleaning te...</td>\n",
       "    </tr>\n",
       "    <tr>\n",
       "      <th>2</th>\n",
       "      <td>So stay tuned for FURther More &amp;&amp;</td>\n",
       "      <td>so stay tuned for further more &amp;&amp;</td>\n",
       "      <td>so stay tuned for further more</td>\n",
       "      <td>stay tuned</td>\n",
       "      <td>stay tuned</td>\n",
       "    </tr>\n",
       "    <tr>\n",
       "      <th>3</th>\n",
       "      <td>Nah I don\"t think he goes to usf, he lives around</td>\n",
       "      <td>nah i don\"t think he goes to usf, he lives around</td>\n",
       "      <td>nah i dont think he goes to usf he lives around</td>\n",
       "      <td>nah dont think goes usf lives around</td>\n",
       "      <td>ah dont think goes us lives around</td>\n",
       "    </tr>\n",
       "  </tbody>\n",
       "</table>\n",
       "</div>"
      ],
      "text/plain": [
       "                                                text  \\\n",
       "0  This is. the NLP TASKS ARTICLE written by ABhi...   \n",
       "1  IN this article I\"ll be explaining various DAT...   \n",
       "2                  So stay tuned for FURther More &&   \n",
       "3  Nah I don\"t think he goes to usf, he lives around   \n",
       "\n",
       "                                               lower  \\\n",
       "0  this is. the nlp tasks article written by abhi...   \n",
       "1  in this article i\"ll be explaining various dat...   \n",
       "2                  so stay tuned for further more &&   \n",
       "3  nah i don\"t think he goes to usf, he lives around   \n",
       "\n",
       "                                        preprocessed  \\\n",
       "0  this is the nlp tasks article written by abhis...   \n",
       "1  in this article ill be explaining various data...   \n",
       "2                    so stay tuned for further more    \n",
       "3    nah i dont think he goes to usf he lives around   \n",
       "\n",
       "                                    stopword_removed  \\\n",
       "0         nlp tasks article written abhishek jaiswal   \n",
       "1  article ill explaining various datacleaning te...   \n",
       "2                                         stay tuned   \n",
       "3               nah dont think goes usf lives around   \n",
       "\n",
       "                                             correct  \n",
       "0         nap tasks article written abhishek jaiswal  \n",
       "1  article ill explaining various datacleaning te...  \n",
       "2                                         stay tuned  \n",
       "3                 ah dont think goes us lives around  "
      ]
     },
     "execution_count": 7,
     "metadata": {},
     "output_type": "execute_result"
    }
   ],
   "source": [
    "from textblob import TextBlob\n",
    "\n",
    "df['correct'] = df.stopword_removed.apply(lambda x: str(TextBlob(x).correct()))\n",
    "df"
   ]
  },
  {
   "cell_type": "markdown",
   "metadata": {
    "id": "7_lVj7UKH3T8"
   },
   "source": [
    "## Tokenization\n",
    "Tokenization means splitting text into meaningful unit words."
   ]
  },
  {
   "cell_type": "code",
   "execution_count": 8,
   "metadata": {
    "colab": {
     "base_uri": "https://localhost:8080/",
     "height": 375
    },
    "id": "TiwjipTPHEh1",
    "outputId": "f68dc462-2493-4d3f-caf6-af53b5a5a144"
   },
   "outputs": [
    {
     "data": {
      "text/html": [
       "<div>\n",
       "<style scoped>\n",
       "    .dataframe tbody tr th:only-of-type {\n",
       "        vertical-align: middle;\n",
       "    }\n",
       "\n",
       "    .dataframe tbody tr th {\n",
       "        vertical-align: top;\n",
       "    }\n",
       "\n",
       "    .dataframe thead th {\n",
       "        text-align: right;\n",
       "    }\n",
       "</style>\n",
       "<table border=\"1\" class=\"dataframe\">\n",
       "  <thead>\n",
       "    <tr style=\"text-align: right;\">\n",
       "      <th></th>\n",
       "      <th>text</th>\n",
       "      <th>lower</th>\n",
       "      <th>preprocessed</th>\n",
       "      <th>stopword_removed</th>\n",
       "      <th>correct</th>\n",
       "      <th>tokens</th>\n",
       "    </tr>\n",
       "  </thead>\n",
       "  <tbody>\n",
       "    <tr>\n",
       "      <th>0</th>\n",
       "      <td>This is. the NLP TASKS ARTICLE written by ABhi...</td>\n",
       "      <td>this is. the nlp tasks article written by abhi...</td>\n",
       "      <td>this is the nlp tasks article written by abhis...</td>\n",
       "      <td>nlp tasks article written abhishek jaiswal</td>\n",
       "      <td>nap tasks article written abhishek jaiswal</td>\n",
       "      <td>[nap, tasks, article, written, abhishek, jaiswal]</td>\n",
       "    </tr>\n",
       "    <tr>\n",
       "      <th>1</th>\n",
       "      <td>IN this article I\"ll be explaining various DAT...</td>\n",
       "      <td>in this article i\"ll be explaining various dat...</td>\n",
       "      <td>in this article ill be explaining various data...</td>\n",
       "      <td>article ill explaining various datacleaning te...</td>\n",
       "      <td>article ill explaining various datacleaning te...</td>\n",
       "      <td>[article, ill, explaining, various, datacleani...</td>\n",
       "    </tr>\n",
       "    <tr>\n",
       "      <th>2</th>\n",
       "      <td>So stay tuned for FURther More &amp;&amp;</td>\n",
       "      <td>so stay tuned for further more &amp;&amp;</td>\n",
       "      <td>so stay tuned for further more</td>\n",
       "      <td>stay tuned</td>\n",
       "      <td>stay tuned</td>\n",
       "      <td>[stay, tuned]</td>\n",
       "    </tr>\n",
       "    <tr>\n",
       "      <th>3</th>\n",
       "      <td>Nah I don\"t think he goes to usf, he lives around</td>\n",
       "      <td>nah i don\"t think he goes to usf, he lives around</td>\n",
       "      <td>nah i dont think he goes to usf he lives around</td>\n",
       "      <td>nah dont think goes usf lives around</td>\n",
       "      <td>ah dont think goes us lives around</td>\n",
       "      <td>[ah, dont, think, goes, us, lives, around]</td>\n",
       "    </tr>\n",
       "  </tbody>\n",
       "</table>\n",
       "</div>"
      ],
      "text/plain": [
       "                                                text  \\\n",
       "0  This is. the NLP TASKS ARTICLE written by ABhi...   \n",
       "1  IN this article I\"ll be explaining various DAT...   \n",
       "2                  So stay tuned for FURther More &&   \n",
       "3  Nah I don\"t think he goes to usf, he lives around   \n",
       "\n",
       "                                               lower  \\\n",
       "0  this is. the nlp tasks article written by abhi...   \n",
       "1  in this article i\"ll be explaining various dat...   \n",
       "2                  so stay tuned for further more &&   \n",
       "3  nah i don\"t think he goes to usf, he lives around   \n",
       "\n",
       "                                        preprocessed  \\\n",
       "0  this is the nlp tasks article written by abhis...   \n",
       "1  in this article ill be explaining various data...   \n",
       "2                    so stay tuned for further more    \n",
       "3    nah i dont think he goes to usf he lives around   \n",
       "\n",
       "                                    stopword_removed  \\\n",
       "0         nlp tasks article written abhishek jaiswal   \n",
       "1  article ill explaining various datacleaning te...   \n",
       "2                                         stay tuned   \n",
       "3               nah dont think goes usf lives around   \n",
       "\n",
       "                                             correct  \\\n",
       "0         nap tasks article written abhishek jaiswal   \n",
       "1  article ill explaining various datacleaning te...   \n",
       "2                                         stay tuned   \n",
       "3                 ah dont think goes us lives around   \n",
       "\n",
       "                                              tokens  \n",
       "0  [nap, tasks, article, written, abhishek, jaiswal]  \n",
       "1  [article, ill, explaining, various, datacleani...  \n",
       "2                                      [stay, tuned]  \n",
       "3         [ah, dont, think, goes, us, lives, around]  "
      ]
     },
     "execution_count": 8,
     "metadata": {},
     "output_type": "execute_result"
    }
   ],
   "source": [
    "import nltk\n",
    "# nltk.download('punkt')\n",
    "\n",
    "df['tokens'] = df.correct.apply(lambda x: nltk.word_tokenize(x))\n",
    "df"
   ]
  },
  {
   "cell_type": "markdown",
   "metadata": {
    "id": "U_sSl9tJJU-A"
   },
   "source": [
    "## Stemming\n",
    "\n",
    "Stemming is converting words into their root word.\n",
    "\n",
    "    “fish,” “fishes,” and “fishing” are stemmed into “fish”.\n",
    "    “playing”, “played”,” plays” are stemmed into “play”.\n",
    "Stemming helps to reduce the vocabulary hence improving the accuracy."
   ]
  },
  {
   "cell_type": "code",
   "execution_count": 9,
   "metadata": {
    "colab": {
     "base_uri": "https://localhost:8080/",
     "height": 444
    },
    "id": "kwjvO6_qIjLN",
    "outputId": "7c1b34c8-8bdd-4f33-cf38-1da1358b09ec"
   },
   "outputs": [
    {
     "data": {
      "text/html": [
       "<div>\n",
       "<style scoped>\n",
       "    .dataframe tbody tr th:only-of-type {\n",
       "        vertical-align: middle;\n",
       "    }\n",
       "\n",
       "    .dataframe tbody tr th {\n",
       "        vertical-align: top;\n",
       "    }\n",
       "\n",
       "    .dataframe thead th {\n",
       "        text-align: right;\n",
       "    }\n",
       "</style>\n",
       "<table border=\"1\" class=\"dataframe\">\n",
       "  <thead>\n",
       "    <tr style=\"text-align: right;\">\n",
       "      <th></th>\n",
       "      <th>text</th>\n",
       "      <th>lower</th>\n",
       "      <th>preprocessed</th>\n",
       "      <th>stopword_removed</th>\n",
       "      <th>correct</th>\n",
       "      <th>tokens</th>\n",
       "      <th>Stemming</th>\n",
       "    </tr>\n",
       "  </thead>\n",
       "  <tbody>\n",
       "    <tr>\n",
       "      <th>0</th>\n",
       "      <td>This is. the NLP TASKS ARTICLE written by ABhi...</td>\n",
       "      <td>this is. the nlp tasks article written by abhi...</td>\n",
       "      <td>this is the nlp tasks article written by abhis...</td>\n",
       "      <td>nlp tasks article written abhishek jaiswal</td>\n",
       "      <td>nap tasks article written abhishek jaiswal</td>\n",
       "      <td>[nap, tasks, article, written, abhishek, jaiswal]</td>\n",
       "      <td>[nap, task, articl, written, abhishek, jaiswal]</td>\n",
       "    </tr>\n",
       "    <tr>\n",
       "      <th>1</th>\n",
       "      <td>IN this article I\"ll be explaining various DAT...</td>\n",
       "      <td>in this article i\"ll be explaining various dat...</td>\n",
       "      <td>in this article ill be explaining various data...</td>\n",
       "      <td>article ill explaining various datacleaning te...</td>\n",
       "      <td>article ill explaining various datacleaning te...</td>\n",
       "      <td>[article, ill, explaining, various, datacleani...</td>\n",
       "      <td>[articl, ill, explain, variou, dataclean, tech...</td>\n",
       "    </tr>\n",
       "    <tr>\n",
       "      <th>2</th>\n",
       "      <td>So stay tuned for FURther More &amp;&amp;</td>\n",
       "      <td>so stay tuned for further more &amp;&amp;</td>\n",
       "      <td>so stay tuned for further more</td>\n",
       "      <td>stay tuned</td>\n",
       "      <td>stay tuned</td>\n",
       "      <td>[stay, tuned]</td>\n",
       "      <td>[stay, tune]</td>\n",
       "    </tr>\n",
       "    <tr>\n",
       "      <th>3</th>\n",
       "      <td>Nah I don\"t think he goes to usf, he lives around</td>\n",
       "      <td>nah i don\"t think he goes to usf, he lives around</td>\n",
       "      <td>nah i dont think he goes to usf he lives around</td>\n",
       "      <td>nah dont think goes usf lives around</td>\n",
       "      <td>ah dont think goes us lives around</td>\n",
       "      <td>[ah, dont, think, goes, us, lives, around]</td>\n",
       "      <td>[ah, dont, think, goe, us, live, around]</td>\n",
       "    </tr>\n",
       "  </tbody>\n",
       "</table>\n",
       "</div>"
      ],
      "text/plain": [
       "                                                text  \\\n",
       "0  This is. the NLP TASKS ARTICLE written by ABhi...   \n",
       "1  IN this article I\"ll be explaining various DAT...   \n",
       "2                  So stay tuned for FURther More &&   \n",
       "3  Nah I don\"t think he goes to usf, he lives around   \n",
       "\n",
       "                                               lower  \\\n",
       "0  this is. the nlp tasks article written by abhi...   \n",
       "1  in this article i\"ll be explaining various dat...   \n",
       "2                  so stay tuned for further more &&   \n",
       "3  nah i don\"t think he goes to usf, he lives around   \n",
       "\n",
       "                                        preprocessed  \\\n",
       "0  this is the nlp tasks article written by abhis...   \n",
       "1  in this article ill be explaining various data...   \n",
       "2                    so stay tuned for further more    \n",
       "3    nah i dont think he goes to usf he lives around   \n",
       "\n",
       "                                    stopword_removed  \\\n",
       "0         nlp tasks article written abhishek jaiswal   \n",
       "1  article ill explaining various datacleaning te...   \n",
       "2                                         stay tuned   \n",
       "3               nah dont think goes usf lives around   \n",
       "\n",
       "                                             correct  \\\n",
       "0         nap tasks article written abhishek jaiswal   \n",
       "1  article ill explaining various datacleaning te...   \n",
       "2                                         stay tuned   \n",
       "3                 ah dont think goes us lives around   \n",
       "\n",
       "                                              tokens  \\\n",
       "0  [nap, tasks, article, written, abhishek, jaiswal]   \n",
       "1  [article, ill, explaining, various, datacleani...   \n",
       "2                                      [stay, tuned]   \n",
       "3         [ah, dont, think, goes, us, lives, around]   \n",
       "\n",
       "                                            Stemming  \n",
       "0    [nap, task, articl, written, abhishek, jaiswal]  \n",
       "1  [articl, ill, explain, variou, dataclean, tech...  \n",
       "2                                       [stay, tune]  \n",
       "3           [ah, dont, think, goe, us, live, around]  "
      ]
     },
     "execution_count": 9,
     "metadata": {},
     "output_type": "execute_result"
    }
   ],
   "source": [
    "from nltk.stem import PorterStemmer\n",
    "st = PorterStemmer()\n",
    "\n",
    "df['Stemming'] = df.tokens.apply(lambda x: [st.stem(word) for word in x])\n",
    "df"
   ]
  },
  {
   "cell_type": "markdown",
   "metadata": {
    "id": "KjCwDgVINZ03"
   },
   "source": [
    "## Lemmatization\n",
    "\n",
    "Lemmatization is converting words into their root word using vocabulary mapping. Lemmatization is done with the help of part of speech and its meaning.\n",
    "\n",
    "    “good,” “better,” or “best” is lemmatized into “good“.\n",
    "Lemmatization will convert all synonyms into a single root word. \n",
    "\n",
    "    “automobile“, “car“,” truck“,” vehicles” are lemmatized into “automobile”.\n",
    "\n",
    "Lemmatization usually gets better results.\n",
    "\n",
    "    leaves stemmed to leav while leafs , leaves lemmatized to leaf\n",
    "\n",
    "But lemmatization is slower than stemming.\n"
   ]
  },
  {
   "cell_type": "code",
   "execution_count": 10,
   "metadata": {
    "colab": {
     "base_uri": "https://localhost:8080/",
     "height": 531
    },
    "id": "g9U_-iOiJmO5",
    "outputId": "9737e92d-876f-41dc-f856-83ebb733901e"
   },
   "outputs": [
    {
     "data": {
      "text/html": [
       "<div>\n",
       "<style scoped>\n",
       "    .dataframe tbody tr th:only-of-type {\n",
       "        vertical-align: middle;\n",
       "    }\n",
       "\n",
       "    .dataframe tbody tr th {\n",
       "        vertical-align: top;\n",
       "    }\n",
       "\n",
       "    .dataframe thead th {\n",
       "        text-align: right;\n",
       "    }\n",
       "</style>\n",
       "<table border=\"1\" class=\"dataframe\">\n",
       "  <thead>\n",
       "    <tr style=\"text-align: right;\">\n",
       "      <th></th>\n",
       "      <th>text</th>\n",
       "      <th>lower</th>\n",
       "      <th>preprocessed</th>\n",
       "      <th>stopword_removed</th>\n",
       "      <th>correct</th>\n",
       "      <th>tokens</th>\n",
       "      <th>Stemming</th>\n",
       "      <th>lemmatizer</th>\n",
       "    </tr>\n",
       "  </thead>\n",
       "  <tbody>\n",
       "    <tr>\n",
       "      <th>0</th>\n",
       "      <td>This is. the NLP TASKS ARTICLE written by ABhi...</td>\n",
       "      <td>this is. the nlp tasks article written by abhi...</td>\n",
       "      <td>this is the nlp tasks article written by abhis...</td>\n",
       "      <td>nlp tasks article written abhishek jaiswal</td>\n",
       "      <td>nap tasks article written abhishek jaiswal</td>\n",
       "      <td>[nap, tasks, article, written, abhishek, jaiswal]</td>\n",
       "      <td>[nap, task, articl, written, abhishek, jaiswal]</td>\n",
       "      <td>[nap, task, article, written, abhishek, jaiswal]</td>\n",
       "    </tr>\n",
       "    <tr>\n",
       "      <th>1</th>\n",
       "      <td>IN this article I\"ll be explaining various DAT...</td>\n",
       "      <td>in this article i\"ll be explaining various dat...</td>\n",
       "      <td>in this article ill be explaining various data...</td>\n",
       "      <td>article ill explaining various datacleaning te...</td>\n",
       "      <td>article ill explaining various datacleaning te...</td>\n",
       "      <td>[article, ill, explaining, various, datacleani...</td>\n",
       "      <td>[articl, ill, explain, variou, dataclean, tech...</td>\n",
       "      <td>[article, ill, explaining, various, datacleani...</td>\n",
       "    </tr>\n",
       "    <tr>\n",
       "      <th>2</th>\n",
       "      <td>So stay tuned for FURther More &amp;&amp;</td>\n",
       "      <td>so stay tuned for further more &amp;&amp;</td>\n",
       "      <td>so stay tuned for further more</td>\n",
       "      <td>stay tuned</td>\n",
       "      <td>stay tuned</td>\n",
       "      <td>[stay, tuned]</td>\n",
       "      <td>[stay, tune]</td>\n",
       "      <td>[stay, tuned]</td>\n",
       "    </tr>\n",
       "    <tr>\n",
       "      <th>3</th>\n",
       "      <td>Nah I don\"t think he goes to usf, he lives around</td>\n",
       "      <td>nah i don\"t think he goes to usf, he lives around</td>\n",
       "      <td>nah i dont think he goes to usf he lives around</td>\n",
       "      <td>nah dont think goes usf lives around</td>\n",
       "      <td>ah dont think goes us lives around</td>\n",
       "      <td>[ah, dont, think, goes, us, lives, around]</td>\n",
       "      <td>[ah, dont, think, goe, us, live, around]</td>\n",
       "      <td>[ah, dont, think, go, u, life, around]</td>\n",
       "    </tr>\n",
       "  </tbody>\n",
       "</table>\n",
       "</div>"
      ],
      "text/plain": [
       "                                                text  \\\n",
       "0  This is. the NLP TASKS ARTICLE written by ABhi...   \n",
       "1  IN this article I\"ll be explaining various DAT...   \n",
       "2                  So stay tuned for FURther More &&   \n",
       "3  Nah I don\"t think he goes to usf, he lives around   \n",
       "\n",
       "                                               lower  \\\n",
       "0  this is. the nlp tasks article written by abhi...   \n",
       "1  in this article i\"ll be explaining various dat...   \n",
       "2                  so stay tuned for further more &&   \n",
       "3  nah i don\"t think he goes to usf, he lives around   \n",
       "\n",
       "                                        preprocessed  \\\n",
       "0  this is the nlp tasks article written by abhis...   \n",
       "1  in this article ill be explaining various data...   \n",
       "2                    so stay tuned for further more    \n",
       "3    nah i dont think he goes to usf he lives around   \n",
       "\n",
       "                                    stopword_removed  \\\n",
       "0         nlp tasks article written abhishek jaiswal   \n",
       "1  article ill explaining various datacleaning te...   \n",
       "2                                         stay tuned   \n",
       "3               nah dont think goes usf lives around   \n",
       "\n",
       "                                             correct  \\\n",
       "0         nap tasks article written abhishek jaiswal   \n",
       "1  article ill explaining various datacleaning te...   \n",
       "2                                         stay tuned   \n",
       "3                 ah dont think goes us lives around   \n",
       "\n",
       "                                              tokens  \\\n",
       "0  [nap, tasks, article, written, abhishek, jaiswal]   \n",
       "1  [article, ill, explaining, various, datacleani...   \n",
       "2                                      [stay, tuned]   \n",
       "3         [ah, dont, think, goes, us, lives, around]   \n",
       "\n",
       "                                            Stemming  \\\n",
       "0    [nap, task, articl, written, abhishek, jaiswal]   \n",
       "1  [articl, ill, explain, variou, dataclean, tech...   \n",
       "2                                       [stay, tune]   \n",
       "3           [ah, dont, think, goe, us, live, around]   \n",
       "\n",
       "                                          lemmatizer  \n",
       "0   [nap, task, article, written, abhishek, jaiswal]  \n",
       "1  [article, ill, explaining, various, datacleani...  \n",
       "2                                      [stay, tuned]  \n",
       "3             [ah, dont, think, go, u, life, around]  "
      ]
     },
     "execution_count": 10,
     "metadata": {},
     "output_type": "execute_result"
    }
   ],
   "source": [
    "from nltk.stem import WordNetLemmatizer\n",
    "# nltk.download('wordnet')\n",
    "\n",
    "lm = WordNetLemmatizer()\n",
    "\n",
    "df['lemmatizer'] = df.tokens.apply(lambda x: [lm.lemmatize(word) for word in x])\n",
    "df"
   ]
  },
  {
   "cell_type": "markdown",
   "metadata": {
    "id": "4HRt1SUVpGuc"
   },
   "source": [
    "## Word Frequency\n",
    "Counting the unique words in our data gives an idea about our data’s most frequent, least frequent terms"
   ]
  },
  {
   "cell_type": "code",
   "execution_count": 11,
   "metadata": {
    "colab": {
     "base_uri": "https://localhost:8080/",
     "height": 189
    },
    "id": "SdO4Otl3RbLs",
    "outputId": "8496d6c7-4fda-4645-f4ea-83a7dc4a4ae1"
   },
   "outputs": [
    {
     "data": {
      "text/html": [
       "<div>\n",
       "<style scoped>\n",
       "    .dataframe tbody tr th:only-of-type {\n",
       "        vertical-align: middle;\n",
       "    }\n",
       "\n",
       "    .dataframe tbody tr th {\n",
       "        vertical-align: top;\n",
       "    }\n",
       "\n",
       "    .dataframe thead th {\n",
       "        text-align: right;\n",
       "    }\n",
       "</style>\n",
       "<table border=\"1\" class=\"dataframe\">\n",
       "  <thead>\n",
       "    <tr style=\"text-align: right;\">\n",
       "      <th></th>\n",
       "      <th>text</th>\n",
       "      <th>lower</th>\n",
       "      <th>preprocessed</th>\n",
       "      <th>stopword_removed</th>\n",
       "      <th>correct</th>\n",
       "      <th>tokens</th>\n",
       "      <th>Stemming</th>\n",
       "      <th>lemmatizer</th>\n",
       "      <th>word_count</th>\n",
       "    </tr>\n",
       "  </thead>\n",
       "  <tbody>\n",
       "    <tr>\n",
       "      <th>0</th>\n",
       "      <td>This is. the NLP TASKS ARTICLE written by ABhi...</td>\n",
       "      <td>this is. the nlp tasks article written by abhi...</td>\n",
       "      <td>this is the nlp tasks article written by abhis...</td>\n",
       "      <td>nlp tasks article written abhishek jaiswal</td>\n",
       "      <td>nap tasks article written abhishek jaiswal</td>\n",
       "      <td>[nap, tasks, article, written, abhishek, jaiswal]</td>\n",
       "      <td>[nap, task, articl, written, abhishek, jaiswal]</td>\n",
       "      <td>[nap, task, article, written, abhishek, jaiswal]</td>\n",
       "      <td>{'nap': 1, 'task': 1, 'article': 1, 'written':...</td>\n",
       "    </tr>\n",
       "    <tr>\n",
       "      <th>1</th>\n",
       "      <td>IN this article I\"ll be explaining various DAT...</td>\n",
       "      <td>in this article i\"ll be explaining various dat...</td>\n",
       "      <td>in this article ill be explaining various data...</td>\n",
       "      <td>article ill explaining various datacleaning te...</td>\n",
       "      <td>article ill explaining various datacleaning te...</td>\n",
       "      <td>[article, ill, explaining, various, datacleani...</td>\n",
       "      <td>[articl, ill, explain, variou, dataclean, tech...</td>\n",
       "      <td>[article, ill, explaining, various, datacleani...</td>\n",
       "      <td>{'article': 1, 'ill': 1, 'explaining': 1, 'var...</td>\n",
       "    </tr>\n",
       "    <tr>\n",
       "      <th>2</th>\n",
       "      <td>So stay tuned for FURther More &amp;&amp;</td>\n",
       "      <td>so stay tuned for further more &amp;&amp;</td>\n",
       "      <td>so stay tuned for further more</td>\n",
       "      <td>stay tuned</td>\n",
       "      <td>stay tuned</td>\n",
       "      <td>[stay, tuned]</td>\n",
       "      <td>[stay, tune]</td>\n",
       "      <td>[stay, tuned]</td>\n",
       "      <td>{'stay': 1, 'tuned': 1}</td>\n",
       "    </tr>\n",
       "    <tr>\n",
       "      <th>3</th>\n",
       "      <td>Nah I don\"t think he goes to usf, he lives around</td>\n",
       "      <td>nah i don\"t think he goes to usf, he lives around</td>\n",
       "      <td>nah i dont think he goes to usf he lives around</td>\n",
       "      <td>nah dont think goes usf lives around</td>\n",
       "      <td>ah dont think goes us lives around</td>\n",
       "      <td>[ah, dont, think, goes, us, lives, around]</td>\n",
       "      <td>[ah, dont, think, goe, us, live, around]</td>\n",
       "      <td>[ah, dont, think, go, u, life, around]</td>\n",
       "      <td>{'ah': 1, 'dont': 1, 'think': 1, 'go': 1, 'u':...</td>\n",
       "    </tr>\n",
       "  </tbody>\n",
       "</table>\n",
       "</div>"
      ],
      "text/plain": [
       "                                                text  \\\n",
       "0  This is. the NLP TASKS ARTICLE written by ABhi...   \n",
       "1  IN this article I\"ll be explaining various DAT...   \n",
       "2                  So stay tuned for FURther More &&   \n",
       "3  Nah I don\"t think he goes to usf, he lives around   \n",
       "\n",
       "                                               lower  \\\n",
       "0  this is. the nlp tasks article written by abhi...   \n",
       "1  in this article i\"ll be explaining various dat...   \n",
       "2                  so stay tuned for further more &&   \n",
       "3  nah i don\"t think he goes to usf, he lives around   \n",
       "\n",
       "                                        preprocessed  \\\n",
       "0  this is the nlp tasks article written by abhis...   \n",
       "1  in this article ill be explaining various data...   \n",
       "2                    so stay tuned for further more    \n",
       "3    nah i dont think he goes to usf he lives around   \n",
       "\n",
       "                                    stopword_removed  \\\n",
       "0         nlp tasks article written abhishek jaiswal   \n",
       "1  article ill explaining various datacleaning te...   \n",
       "2                                         stay tuned   \n",
       "3               nah dont think goes usf lives around   \n",
       "\n",
       "                                             correct  \\\n",
       "0         nap tasks article written abhishek jaiswal   \n",
       "1  article ill explaining various datacleaning te...   \n",
       "2                                         stay tuned   \n",
       "3                 ah dont think goes us lives around   \n",
       "\n",
       "                                              tokens  \\\n",
       "0  [nap, tasks, article, written, abhishek, jaiswal]   \n",
       "1  [article, ill, explaining, various, datacleani...   \n",
       "2                                      [stay, tuned]   \n",
       "3         [ah, dont, think, goes, us, lives, around]   \n",
       "\n",
       "                                            Stemming  \\\n",
       "0    [nap, task, articl, written, abhishek, jaiswal]   \n",
       "1  [articl, ill, explain, variou, dataclean, tech...   \n",
       "2                                       [stay, tune]   \n",
       "3           [ah, dont, think, goe, us, live, around]   \n",
       "\n",
       "                                          lemmatizer  \\\n",
       "0   [nap, task, article, written, abhishek, jaiswal]   \n",
       "1  [article, ill, explaining, various, datacleani...   \n",
       "2                                      [stay, tuned]   \n",
       "3             [ah, dont, think, go, u, life, around]   \n",
       "\n",
       "                                          word_count  \n",
       "0  {'nap': 1, 'task': 1, 'article': 1, 'written':...  \n",
       "1  {'article': 1, 'ill': 1, 'explaining': 1, 'var...  \n",
       "2                            {'stay': 1, 'tuned': 1}  \n",
       "3  {'ah': 1, 'dont': 1, 'think': 1, 'go': 1, 'u':...  "
      ]
     },
     "execution_count": 11,
     "metadata": {},
     "output_type": "execute_result"
    }
   ],
   "source": [
    "df['word_count'] = df.lemmatizer.apply(lambda x: nltk.FreqDist(x))\n",
    "df"
   ]
  },
  {
   "cell_type": "markdown",
   "metadata": {},
   "source": [
    "## Word Cloud\n",
    "Wordcloud is the pictorial representation of the word frequency of the dataset.WordCloud is easier to understand and gives a better idea about our textual data."
   ]
  },
  {
   "cell_type": "code",
   "execution_count": 12,
   "metadata": {},
   "outputs": [],
   "source": [
    "# !pip install wordcloud"
   ]
  },
  {
   "cell_type": "code",
   "execution_count": 13,
   "metadata": {
    "id": "6Hpab--xpvyL"
   },
   "outputs": [],
   "source": [
    "from wordcloud import WordCloud\n",
    "from wordcloud import STOPWORDS  \n",
    "import matplotlib.pyplot as plt"
   ]
  },
  {
   "cell_type": "code",
   "execution_count": 14,
   "metadata": {},
   "outputs": [
    {
     "data": {
      "image/png": "[encoded data removed]",
      "text/plain": [
       "<Figure size 432x288 with 1 Axes>"
      ]
     },
     "metadata": {
      "needs_background": "light"
     },
     "output_type": "display_data"
    }
   ],
   "source": [
    "words = []\n",
    "for message in df['lemmatizer']:\n",
    "    words.extend([word for word in message if word not in STOPWORDS])\n",
    "\n",
    "wordcloud = WordCloud(width = 1000, height = 500).generate(\" \".join(words))\n",
    "plt.imshow(wordcloud, interpolation='bilinear')\n",
    "plt.axis(\"off\")\n",
    "plt.show()"
   ]
  }
 ],
 "metadata": {
  "colab": {
   "name": "Natural Language Processing.ipynb",
   "provenance": []
  },
  "kernelspec": {
   "display_name": "Python 3",
   "language": "python",
   "name": "python3"
  },
  "language_info": {
   "codemirror_mode": {
    "name": "ipython",
    "version": 3
   },
   "file_extension": ".py",
   "mimetype": "text/x-python",
   "name": "python",
   "nbconvert_exporter": "python",
   "pygments_lexer": "ipython3",
   "version": "3.6.15"
  }
 },
 "nbformat": 4,
 "nbformat_minor": 4
}
